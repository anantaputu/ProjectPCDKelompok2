{
 "cells": [
  {
   "cell_type": "code",
   "execution_count": 1,
   "id": "4d6cb622-d15f-4031-a2ef-425a92e05ed5",
   "metadata": {},
   "outputs": [],
   "source": [
    "import os\n",
    "import cv2 as cv\n",
    "import matplotlib.pyplot as plt\n",
    "import numpy as np\n",
    "import pandas as pd\n",
    "from sklearn.model_selection import train_test_split, cross_val_predict\n",
    "from sklearn.metrics import accuracy_score, classification_report\n",
    "from skimage.feature import graycomatrix, graycoprops\n",
    "from scipy.stats import entropy\n",
    "from sklearn.ensemble import RandomForestClassifier\n",
    "from sklearn.svm import SVC\n",
    "from sklearn.neighbors import KNeighborsClassifier\n",
    "from sklearn.metrics import accuracy_score, precision_score, recall_score, f1_score, confusion_matrix, classification_report\n",
    "from sklearn.metrics import (confusion_matrix, ConfusionMatrixDisplay)\n",
    "import seaborn as sns"
   ]
  },
  {
   "cell_type": "markdown",
   "id": "704fd2f4-f5e0-4862-b0ab-a0217d70d35c",
   "metadata": {},
   "source": [
    "## Define Resize Function"
   ]
  },
  {
   "cell_type": "code",
   "execution_count": 2,
   "id": "cb7cb19a-4a6c-44f3-b59c-dec679ec6dd8",
   "metadata": {},
   "outputs": [],
   "source": [
    "def resize(image, new_row, new_column):\n",
    "    row, column = image.shape\n",
    "\n",
    "    new_image = np.zeros((new_row, new_column), dtype=np.uint8)\n",
    "\n",
    "    for i in range(new_row):\n",
    "        for j in range(new_column):\n",
    "            x = int(i * row / new_row)\n",
    "            y = int(j * column / new_column)\n",
    "\n",
    "            x = min(x, row - 1)\n",
    "            y = min(y, column - 1)\n",
    "\n",
    "            new_image[i, j] = image[x, y]\n",
    "            \n",
    "    return new_image"
   ]
  },
  {
   "cell_type": "markdown",
   "id": "f46230ba-7b22-45bf-833b-9f573af14a54",
   "metadata": {},
   "source": [
    "## Define Display Function"
   ]
  },
  {
   "cell_type": "code",
   "execution_count": 3,
   "id": "0db075d2-4580-4dd1-a7bd-1e45aef42b57",
   "metadata": {},
   "outputs": [],
   "source": [
    "def display(data, labels, samples_per_label=5):\n",
    "    unique_labels = np.unique(labels)\n",
    "    num_unique_labels = len(unique_labels)\n",
    "\n",
    "    plt.figure(figsize=(samples_per_label * 2, num_unique_labels * 2))\n",
    "\n",
    "    for i, label in enumerate(unique_labels):\n",
    "        indices = np.where(labels == label)[0]\n",
    "\n",
    "        if len(indices) == 0:\n",
    "            print(f\"Tidak ada gambar ditemukan untuk label: {label}\")\n",
    "            continue\n",
    "\n",
    "        selected_indices = indices[:samples_per_label]\n",
    "\n",
    "        for j, idx in enumerate(selected_indices):\n",
    "            plt.subplot(num_unique_labels, samples_per_label, i * samples_per_label + j + 1)\n",
    "            plt.imshow(data[idx], cmap='gray')\n",
    "            plt.axis('off')\n",
    "\n",
    "            if j == 0:\n",
    "                plt.title(f\"Label: {label}\")\n",
    "\n",
    "    plt.tight_layout()\n",
    "    plt.show()"
   ]
  },
  {
   "cell_type": "markdown",
   "id": "db12c1a0-9ee8-47f8-992f-993dc369a7f4",
   "metadata": {},
   "source": [
    "## Data Loading"
   ]
  },
  {
   "cell_type": "code",
   "execution_count": 4,
   "id": "b404269d-10fa-4302-89b0-2269dfe11dce",
   "metadata": {},
   "outputs": [],
   "source": [
    "data = []\n",
    "labels = []\n",
    "file_name = []\n",
    "\n",
    "for sub_folder in os.listdir(\"dataset\\\\\"):\n",
    "    sub_folder_files = os.listdir(os.path.join(\"dataset\\\\\", sub_folder))\n",
    "    for i, filename in enumerate(sub_folder_files):\n",
    "        img_path = os.path.join(\"dataset\\\\\", sub_folder, filename)\n",
    "        img = cv.imread(img_path)\n",
    "        img = cv.cvtColor(img, cv.COLOR_BGR2GRAY)\n",
    "        img = resize(img, 256, 256)\n",
    "        data.append(img)\n",
    "        labels.append(sub_folder)\n",
    "        name = os.path.splitext(filename)[0]\n",
    "        file_name.append(filename)\n",
    "\n",
    "data = np.array(data)\n",
    "labels = np.array(labels)"
   ]
  },
  {
   "cell_type": "code",
   "execution_count": 5,
   "id": "649b7a5a-4ed6-4bd1-a74e-8708333d548e",
   "metadata": {},
   "outputs": [],
   "source": [
    "def median(image, size):\n",
    "    paddedImage = np.pad(image, ((size//2, size//2), (size//2, size//2)), mode='edge')\n",
    "    newImage = np.zeros(image.shape)\n",
    "\n",
    "    for y in range(image.shape[1]):\n",
    "        for x in range(image.shape[0]):\n",
    "            area = paddedImage[y:y + size, x:x + size]\n",
    "            values = area.flatten()\n",
    "            sortedValues = sorted(values)\n",
    "\n",
    "            medianValue = sortedValues[len(sortedValues) // 2]\n",
    "\n",
    "            newImage[y, x] = medianValue\n",
    "\n",
    "    return newImage"
   ]
  },
  {
   "cell_type": "code",
   "execution_count": null,
   "id": "5bb090ed-053b-4552-8589-3d706727b189",
   "metadata": {},
   "outputs": [],
   "source": [
    "data_preprocessed = []\n",
    "labels_preprocessed = []\n",
    "\n",
    "for i in range(len(data)):\n",
    "    img = data[i]\n",
    "    lbl = labels[i]\n",
    "\n",
    "    img_median = median(img, 3)\n",
    "    data_preprocessed.append(img_median)\n",
    "    labels_preprocessed.append(lbl)\n",
    "\n",
    "data_preprocessed = np.array(data_preprocessed)\n",
    "labels_preprocessed = np.array(labels_preprocessed)"
   ]
  },
  {
   "cell_type": "code",
   "execution_count": null,
   "id": "0ad5e62f-26f3-4e63-b83a-5b5d4f5c8586",
   "metadata": {},
   "outputs": [],
   "source": [
    "def glcm(image, derajat):\n",
    "    if image.dtype != np.uint8 and image.dtype != np.uint16:\n",
    "        image = (image * 255).astype(np.uint8)\n",
    "\n",
    "    if derajat == 0:\n",
    "        angles = [0]\n",
    "    elif derajat == 45:\n",
    "        angles = [np.pi / 4]\n",
    "    elif derajat == 90:\n",
    "        angles = [np.pi / 2]\n",
    "    elif derajat == 135:\n",
    "        angles = [3 * np.pi / 4]\n",
    "    else:\n",
    "        raise ValueError(\"Invalid angle. It should be one of the following: 0, 45, 90, 135.\")\n",
    "\n",
    "    glcm = graycomatrix(image, [1], angles, levels=256, symmetric=True, normed=True)\n",
    "    return glcm"
   ]
  },
  {
   "cell_type": "code",
   "execution_count": null,
   "id": "f7727cb7-717c-40e8-ab77-06d4a87a76c3",
   "metadata": {},
   "outputs": [],
   "source": [
    "def correlation(matriks):\n",
    "\treturn graycoprops(matriks, 'correlation')[0, 0]"
   ]
  },
  {
   "cell_type": "code",
   "execution_count": null,
   "id": "7708817b-b7da-4d06-ac95-9d702c8ca7e6",
   "metadata": {},
   "outputs": [],
   "source": [
    "def dissimilarity(matriks):\n",
    "    return graycoprops(matriks, 'dissimilarity')[0, 0]"
   ]
  },
  {
   "cell_type": "code",
   "execution_count": null,
   "id": "9f805348-4d67-4aa7-b504-4a30e3fd2ca5",
   "metadata": {},
   "outputs": [],
   "source": [
    "def homogenity(matriks):\n",
    "    return graycoprops(matriks, 'homogeneity')[0, 0]"
   ]
  },
  {
   "cell_type": "code",
   "execution_count": null,
   "id": "bd7eab1d-8d46-4eef-a5cd-ebf2ee9a43c0",
   "metadata": {},
   "outputs": [],
   "source": [
    "def contrast(matriks):\n",
    "    return graycoprops(matriks, 'contrast')[0, 0]"
   ]
  },
  {
   "cell_type": "code",
   "execution_count": null,
   "id": "606ab165-1bb6-4c91-9e33-0507f56336a7",
   "metadata": {},
   "outputs": [],
   "source": [
    "def ASM(matriks):\n",
    "    return graycoprops(matriks, 'ASM')[0, 0]"
   ]
  },
  {
   "cell_type": "code",
   "execution_count": null,
   "id": "43c3e41f-e366-43c5-aae9-92ba45f7a701",
   "metadata": {},
   "outputs": [],
   "source": [
    "def energy(matriks):\n",
    "    return graycoprops(matriks, 'energy')[0, 0]"
   ]
  },
  {
   "cell_type": "code",
   "execution_count": null,
   "id": "78354ece-c2fd-4766-b151-9cf4e4d9858e",
   "metadata": {},
   "outputs": [],
   "source": [
    "def entropyGlcm(matriks):\n",
    "    return entropy(matriks.ravel())"
   ]
  },
  {
   "cell_type": "code",
   "execution_count": null,
   "id": "a5cdbbb7-1b14-4468-8e40-4355792c50dd",
   "metadata": {},
   "outputs": [],
   "source": [
    "Derajat0 = []\n",
    "Derajat45 = []\n",
    "Derajat90 = []\n",
    "Derajat135 = []\n",
    "for i in range(len(data_preprocessed)):\n",
    "    D0 = glcm(data_preprocessed[i], 0)\n",
    "    D45 = glcm(data_preprocessed[i], 45)\n",
    "    D90 = glcm(data_preprocessed[i], 90)\n",
    "    D135 = glcm(data_preprocessed[i], 135)\n",
    "    Derajat0.append(D0)\n",
    "    Derajat45.append(D45)\n",
    "    Derajat90.append(D90)\n",
    "    Derajat135.append(D135)"
   ]
  },
  {
   "cell_type": "code",
   "execution_count": null,
   "id": "feecdf12-d474-4057-a3e4-6a03b5027b30",
   "metadata": {},
   "outputs": [],
   "source": [
    "Kontras0, Kontras45, Kontras90, Kontras135 = [], [], [], []\n",
    "dissimilarity0, dissimilarity45, dissimilarity90, dissimilarity135 =  [], [], [], []\n",
    "homogenity0, homogenity45, homogenity90, homogenity135 = [], [], [], []\n",
    "entropy0, entropy45, entropy90, entropy135 =  [], [], [], []\n",
    "ASM0, ASM45, ASM90, ASM135 =  [], [], [], []\n",
    "energy0, energy45, energy90, energy135 =  [], [], [], []\n",
    "correlation0, correlation45, correlation90, correlation135 = [], [], [], []"
   ]
  },
  {
   "cell_type": "code",
   "execution_count": null,
   "id": "e1584a35-67e6-41ab-b233-4c9791a7b9a7",
   "metadata": {},
   "outputs": [],
   "source": [
    "for i in range(len(data_preprocessed)):\n",
    "    C0 = correlation(Derajat0[i])\n",
    "    correlation0.append(C0)\n",
    "    C45 = correlation(Derajat45[i])\n",
    "    correlation45.append(C45)\n",
    "    C90 = correlation(Derajat90[i])\n",
    "    correlation90.append(C90)\n",
    "    C135 = correlation(Derajat135[i])\n",
    "    correlation135.append(C135)"
   ]
  },
  {
   "cell_type": "code",
   "execution_count": null,
   "id": "6a26e8b8-42ef-486d-8eb5-201cce7fd841",
   "metadata": {},
   "outputs": [],
   "source": [
    "for i in range(len(data_preprocessed)):\n",
    "    K0 = contrast(Derajat0[i])\n",
    "    K45 = contrast(Derajat45[i])\n",
    "    K90 = contrast(Derajat90[i])\n",
    "    K135 = contrast(Derajat135[i])\n",
    "    Kontras0.append(K0)\n",
    "    Kontras45.append(K45)\n",
    "    Kontras90.append(K90)\n",
    "    Kontras135.append(K135)"
   ]
  },
  {
   "cell_type": "code",
   "execution_count": null,
   "id": "1253b4c2-65d8-443b-aa66-930b71278f2a",
   "metadata": {},
   "outputs": [],
   "source": [
    "for i in range(len(data_preprocessed)):\n",
    "    Dis0 = dissimilarity(Derajat0[i])\n",
    "    Dis45 = dissimilarity(Derajat45[i])\n",
    "    Dis90 = dissimilarity(Derajat90[i])\n",
    "    Dis135 = dissimilarity(Derajat135[i])\n",
    "    dissimilarity0.append(Dis0)\n",
    "    dissimilarity45.append(Dis45)\n",
    "    dissimilarity90.append(Dis90)\n",
    "    dissimilarity135.append(Dis135)"
   ]
  },
  {
   "cell_type": "code",
   "execution_count": null,
   "id": "58ee82ff-daeb-4c44-a1db-d3d38cf334e3",
   "metadata": {},
   "outputs": [],
   "source": [
    "for i in range(len(data_preprocessed)):\n",
    "    H0 = homogenity(Derajat0[i])\n",
    "    H45 = homogenity(Derajat45[i])\n",
    "    H90 = homogenity(Derajat90[i])\n",
    "    H135 = homogenity(Derajat135[i])\n",
    "    homogenity0.append(H0)\n",
    "    homogenity45.append(H45)\n",
    "    homogenity90.append(H90)\n",
    "    homogenity135.append(H135)"
   ]
  },
  {
   "cell_type": "code",
   "execution_count": null,
   "id": "b7a43952-de65-47ca-b609-1a6584ae5357",
   "metadata": {},
   "outputs": [],
   "source": [
    "for i in range(len(data_preprocessed)):\n",
    "    E0 = entropyGlcm(Derajat0[i])\n",
    "    E45 = entropyGlcm(Derajat45[i])\n",
    "    E90 = entropyGlcm(Derajat90[i])\n",
    "    E135 = entropyGlcm(Derajat135[i])\n",
    "    entropy0.append(E0)\n",
    "    entropy45.append(E45)\n",
    "    entropy90.append(E90)\n",
    "    entropy135.append(E135)"
   ]
  },
  {
   "cell_type": "code",
   "execution_count": null,
   "id": "4cca76c3-8f38-412c-b5b6-b8f7feee6bd4",
   "metadata": {},
   "outputs": [],
   "source": [
    "for i in range(len(data_preprocessed)):\n",
    "    A0 = ASM(Derajat0[i])\n",
    "    A45 = ASM(Derajat45[i])\n",
    "    A90 = ASM(Derajat90[i])\n",
    "    A135 = ASM(Derajat135[i])\n",
    "    ASM0.append(A0)\n",
    "    ASM45.append(A45)\n",
    "    ASM90.append(A90)\n",
    "    ASM135.append(A135)"
   ]
  },
  {
   "cell_type": "code",
   "execution_count": null,
   "id": "75aad4da-117e-4770-9ed9-a77a99034859",
   "metadata": {},
   "outputs": [],
   "source": [
    "for i in range(len(data_preprocessed)):\n",
    "    ER0 = energy(Derajat0[i])\n",
    "    ER45 = energy(Derajat45[i])\n",
    "    ER90 = energy(Derajat90[i])\n",
    "    ER135 = energy(Derajat135[i])\n",
    "    energy0.append(ER0)\n",
    "    energy45.append(ER45)\n",
    "    energy90.append(ER90)\n",
    "    energy135.append(ER135)"
   ]
  },
  {
   "cell_type": "code",
   "execution_count": null,
   "id": "2d91efd4-39fb-4a9c-8cc5-131795378675",
   "metadata": {},
   "outputs": [],
   "source": [
    "dataTable = {'Filename': file_name, 'Label': labels,\n",
    "        'Contrast0': Kontras0, 'Contrast45': Kontras45, 'Contrast90': Kontras90, 'Contrast135': Kontras135,\n",
    "        'Homogeneity0': homogenity0, 'Homogeneity45': homogenity45, 'Homogeneity90': homogenity90, 'Homogeneity135': homogenity135,\n",
    "        'Dissimilarity0': dissimilarity0, 'Dissimilarity45': dissimilarity45, 'Dissimilarity90': dissimilarity90, 'Dissimilarity135': dissimilarity135,\n",
    "        'Entropy0': entropy0, 'Entropy45': entropy45, 'Entropy90': entropy90, 'Entropy135': entropy135,\n",
    "        'ASM0': ASM0, 'ASM45': ASM45, 'ASM90': ASM90, 'ASM135': ASM135,\n",
    "        'Energy0': energy0, 'Energy45': energy45, 'Energy90': energy90, 'Energy135': energy135,\n",
    "        'Correlation0': correlation0, 'Correlation45': correlation45, 'Correlation90': correlation90, 'Correlation135': correlation135,\n",
    "        }\n",
    "df = pd.DataFrame(dataTable)\n",
    "df.to_csv('hasil_ekstraksi_1.csv', index=False)\n",
    "\n",
    "hasilEkstrak = pd.read_csv('hasil_ekstraksi_1.csv')\n",
    "hasilEkstrak"
   ]
  },
  {
   "cell_type": "code",
   "execution_count": null,
   "id": "a94acb48-ddf7-41b5-b1d3-e2d88f1ae014",
   "metadata": {},
   "outputs": [],
   "source": [
    "# Menghitung korelasi\n",
    "correlation = hasilEkstrak.drop(columns=['Label','Filename']).corr()\n",
    "\n",
    "# Menyaring fitur yang memiliki korelasi absolut lebih dari 0.95 dengan label\n",
    "threshold = 0.95 # atur threshold ini untuk menentukan seberapa besar korelasi yang ingin disaring\n",
    "selectionFeature = []\n",
    "columns = np.full((correlation.shape[0],), True, dtype=bool)\n",
    "for i in range(correlation.shape[0]):\n",
    "\tfor j in range(i+1, correlation.shape[0]):\n",
    "\t\tif correlation.iloc[i,j] >= threshold:\n",
    "\t\t\tif columns[j]:\n",
    "\t\t\t\tcolumns[j] = False\n",
    "select = hasilEkstrak.drop(columns=['Label','Filename']).columns[columns]\n",
    "x_new = hasilEkstrak[select]\n",
    "x_new\n",
    "y = hasilEkstrak['Label']\n",
    "plt.figure(figsize=(17,17))\n",
    "sns.heatmap(x_new.corr(), annot=True, cmap='Blues', fmt=\".2f\")"
   ]
  },
  {
   "cell_type": "code",
   "execution_count": null,
   "id": "ba99c17d-501f-464f-8c20-81d8cf664b0d",
   "metadata": {},
   "outputs": [],
   "source": [
    "# ubah bagian test_size sesuai kebutuhan\n",
    "# 0.3 = 30% data untuk testing (train/test 70/30)\n",
    "# 0.2 = 20% data untuk testing (train/test 80/20)\n",
    "X_train, X_test, y_train, y_test = train_test_split(x_new, y, test_size=0.2, random_state=42)\n",
    "print(X_train.shape)\n",
    "print(X_test.shape)"
   ]
  },
  {
   "cell_type": "code",
   "execution_count": null,
   "id": "22696ee1-92a1-4ac1-83da-03f67c4f7a4f",
   "metadata": {},
   "outputs": [],
   "source": [
    "X_test = (X_test - X_train.mean()) / X_train.std()\n",
    "X_train = (X_train - X_train.mean()) / X_train.std()"
   ]
  },
  {
   "cell_type": "code",
   "execution_count": null,
   "id": "3eaaa405-4b48-4cda-82e2-f87e82597867",
   "metadata": {},
   "outputs": [],
   "source": [
    "def generateClassificationReport(y_true, y_pred):\n",
    "\tprint(classification_report(y_true, y_pred))\n",
    "\tprint(confusion_matrix(y_true, y_pred))\n",
    "\tprint('Accuracy:', accuracy_score(y_true, y_pred))\n",
    "\n",
    "# Define classifiers\n",
    "rf = RandomForestClassifier(n_estimators=5, random_state=42)\n",
    "svm = SVC(kernel='rbf', random_state=42)\n",
    "knn = KNeighborsClassifier(n_neighbors=5)"
   ]
  },
  {
   "cell_type": "code",
   "execution_count": null,
   "id": "e7b6c2ed-4546-4a76-998f-f7e3e998a5ff",
   "metadata": {},
   "outputs": [],
   "source": [
    "# Train Random Forest Classifier\n",
    "rf.fit(X_train, y_train)\n",
    "\n",
    "# Make predictions and evaluate the model with the training set\n",
    "print(\"------Training Set------\")\n",
    "y_pred = rf.predict(X_train)\n",
    "generateClassificationReport( y_train, y_pred)\n",
    "\n",
    "# Make predictions and evaluate the model with the testing set\n",
    "print(\"\\n------Testing Set------\")\n",
    "y_pred = rf.predict(X_test)\n",
    "generateClassificationReport( y_test, y_pred)"
   ]
  },
  {
   "cell_type": "code",
   "execution_count": null,
   "id": "6391cdbc-da01-4478-8892-5cb1df42a512",
   "metadata": {},
   "outputs": [],
   "source": [
    "# Train SVM Classifier\n",
    "svm.fit(X_train, y_train)\n",
    "\n",
    "# Make predictions and evaluate the model with the training set\n",
    "print(\"\\n------Training Set------\")\n",
    "y_pred = svm.predict(X_train)\n",
    "generateClassificationReport( y_train, y_pred)\n",
    "\n",
    "# Make predictions and evaluate the model with the testing set\n",
    "print(\"\\n------Testing Set------\")\n",
    "y_pred = svm.predict(X_test)\n",
    "generateClassificationReport( y_test, y_pred)"
   ]
  },
  {
   "cell_type": "code",
   "execution_count": null,
   "id": "2741548d-0687-43bf-b7d0-76ea64304ee5",
   "metadata": {},
   "outputs": [],
   "source": [
    "# Train KNN Classifier\n",
    "knn.fit(X_train, y_train)\n",
    "\n",
    "# Make predictions and evaluate the model with the training set\n",
    "print(\"\\n------Training Set------\")\n",
    "y_pred = knn.predict(X_train)\n",
    "generateClassificationReport( y_train, y_pred)\n",
    "\n",
    "# Make predictions and evaluate the model with the testing set\n",
    "print(\"\\n------Testing Set------\")\n",
    "y_pred = knn.predict(X_test)\n",
    "generateClassificationReport( y_test, y_pred)"
   ]
  },
  {
   "cell_type": "code",
   "execution_count": null,
   "id": "c09ee134-f88a-45a4-9eb9-6aea9ace1de9",
   "metadata": {},
   "outputs": [],
   "source": [
    "def plot_confusion_matrix(y_true, y_pred, title):\n",
    "    cm = confusion_matrix(y_true, y_pred)\n",
    "    disp = ConfusionMatrixDisplay(confusion_matrix=cm)\n",
    "    disp.plot(cmap=plt.cm.Blues)\n",
    "    plt.title(title)\n",
    "    plt.show()\n",
    "\n",
    "# Plot confusion matrix for Random Forest\n",
    "plot_confusion_matrix(y_test, rf.predict(X_test), \"Random Forest Confusion Matrix\")\n",
    "# Plot confusion matrix for SVM\n",
    "plot_confusion_matrix(y_test, svm.predict(X_test), \"SVM Confusion Matrix\")\n",
    "# Plot confusion matrix for KNN\n",
    "plot_confusion_matrix(y_test, knn.predict(X_test), \"KNN Confusion Matrix\")"
   ]
  }
 ],
 "metadata": {
  "kernelspec": {
   "display_name": "Python 3 (ipykernel)",
   "language": "python",
   "name": "python3"
  },
  "language_info": {
   "codemirror_mode": {
    "name": "ipython",
    "version": 3
   },
   "file_extension": ".py",
   "mimetype": "text/x-python",
   "name": "python",
   "nbconvert_exporter": "python",
   "pygments_lexer": "ipython3",
   "version": "3.13.2"
  }
 },
 "nbformat": 4,
 "nbformat_minor": 5
}

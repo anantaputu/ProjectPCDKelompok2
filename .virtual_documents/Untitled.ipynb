import os
import cv2 as cv
import matplotlib.pyplot as plt
import numpy as np
import pandas as pd
from rembg import remove
from sklearn.model_selection import train_test_split, cross_val_predict
from sklearn.metrics import accuracy_score, classification_report
from skimage.feature import graycomatrix, graycoprops
from scipy.stats import entropy
from sklearn.ensemble import RandomForestClassifier
from sklearn.svm import SVC
from sklearn.neighbors import KNeighborsClassifier
from sklearn.metrics import accuracy_score, precision_score, recall_score, f1_score, confusion_matrix, classification_report
from sklearn.metrics import (confusion_matrix, ConfusionMatrixDisplay)
import seaborn as sns


data = []
labels = []
file_name = []

TARGET_SIZE = (1000, 1000)

kaggle_dataset_path = "/content/drive/MyDrive/kentang"

if not os.path.exists(kaggle_dataset_path):
    print(f"Error: The path '{kaggle_dataset_path}' does not exist. "
          "Please ensure your dataset is added and the path is correct.")
else:
    for sub_folder in os.listdir(kaggle_dataset_path):
        current_subfolder_path = os.path.join(kaggle_dataset_path, sub_folder)

        if os.path.isdir(current_subfolder_path):
            sub_folder_files = os.listdir(current_subfolder_path)

            for i, filename in enumerate(sub_folder_files):
                img_path = os.path.join(current_subfolder_path, filename)

                if os.path.isfile(img_path):
                    img = cv.imread(img_path)

                    if img is None:
                        print(f"Warning: Could not load image {img_path}. Skipping.")
                        continue

                    img = remove(img)

                    img = cv.cvtColor(img, cv.COLOR_BGR2GRAY)

                    img = cv.resize(img, TARGET_SIZE) # <-- RESIZE RIGHT HERE

                    data.append(img)
                    labels.append(sub_folder)
                    name = os.path.splitext(filename)[0]
                    file_name.append(filename)
                else:
                    print(f"Skipping non-file entry: {img_path}")
        else:
            print(f"Skipping non-directory entry: {current_subfolder_path}")

data = np.array(data)
labels = np.array(labels)

print(f"Loaded {len(data)} images.")
print(f"Shape of data array: {data.shape}")
print(f"Unique labels: {np.unique(labels)}")

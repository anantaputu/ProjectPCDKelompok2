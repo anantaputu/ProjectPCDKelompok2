{
 "cells": [
  {
   "cell_type": "code",
   "execution_count": 1,
   "id": "4d6cb622-d15f-4031-a2ef-425a92e05ed5",
   "metadata": {},
   "outputs": [],
   "source": [
    "import os\n",
    "import cv2 as cv\n",
    "import matplotlib.pyplot as plt\n",
    "import numpy as np\n",
    "import pandas as pd\n",
    "from sklearn.model_selection import train_test_split, cross_val_predict\n",
    "from sklearn.metrics import accuracy_score, classification_report\n",
    "from skimage.feature import graycomatrix, graycoprops\n",
    "from scipy.stats import entropy\n",
    "from sklearn.ensemble import RandomForestClassifier\n",
    "from sklearn.svm import SVC\n",
    "from sklearn.neighbors import KNeighborsClassifier\n",
    "from sklearn.metrics import accuracy_score, precision_score, recall_score, f1_score, confusion_matrix, classification_report\n",
    "from sklearn.metrics import (confusion_matrix, ConfusionMatrixDisplay)\n",
    "import seaborn as sns"
   ]
  },
  {
   "cell_type": "markdown",
   "id": "3694d528",
   "metadata": {},
   "source": [
    "Library seperti os digunakan untuk mengelola file dan direktori, sedangkan cv2 dari OpenCV. matplotlib.pyplot dan seaborn digunakan untuk visualisasi data dan hasil analisis. numpy dan pandas adalah pustaka fundamental untuk pengolahan array dan manipulasi data tabel. Untuk fitur dan tekstur gambar, digunakan graycomatrix dan graycoprops dari skimage, serta entropy dari scipy.stats. Library sklearn menyediakan berbagai alat penting dalam machine learning, seperti pemisahan data (train_test_split), validasi silang (cross_val_predict), pemodelan menggunakan algoritma seperti Random Forest, SVM, dan K-Nearest Neighbors, serta evaluasi performa model melalui metrik seperti akurasi, presisi, recall, F1-score, dan confusion matrix. Keseluruhan library ini bekerja sama untuk membangun sistem analisis citra berbasis machine learning yang terstruktur dan efisien."
   ]
  },
  {
   "cell_type": "markdown",
   "id": "704fd2f4-f5e0-4862-b0ab-a0217d70d35c",
   "metadata": {},
   "source": [
    "## Define Resize Function"
   ]
  },
  {
   "cell_type": "code",
   "execution_count": 2,
   "id": "cb7cb19a-4a6c-44f3-b59c-dec679ec6dd8",
   "metadata": {},
   "outputs": [],
   "source": [
    "def resize(image, new_row, new_column):\n",
    "    row, column = image.shape\n",
    "    new_image = np.zeros((new_row, new_column), dtype=np.uint8)\n",
    "    for i in range(new_row):\n",
    "        for j in range(new_column):\n",
    "            x = int(i * row / new_row)\n",
    "            y = int(j * column / new_column)\n",
    "            x = min(x, row - 1)\n",
    "            y = min(y, column - 1)\n",
    "            new_image[i, j] = image[x, y]\n",
    "    return new_image"
   ]
  },
  {
   "cell_type": "markdown",
   "id": "5a57df59",
   "metadata": {},
   "source": [
    "Fungsi di atas merupakan fungsi resize manual yang digunakan untuk mengubah ukuran citra grayscale ke dimensi baru dengan metode nearest neighbor. Setiap piksel pada citra hasil mengambil nilai dari piksel terdekat di citra asli berdasarkan skala. Fungsi ini membantu standarisasi ukuran citra sebelum proses ekstraksi fitur dalam sistem analisis citra berbasis machine learning."
   ]
  },
  {
   "cell_type": "markdown",
   "id": "f46230ba-7b22-45bf-833b-9f573af14a54",
   "metadata": {},
   "source": [
    "## Define Display Function"
   ]
  },
  {
   "cell_type": "code",
   "execution_count": 3,
   "id": "0db075d2-4580-4dd1-a7bd-1e45aef42b57",
   "metadata": {},
   "outputs": [],
   "source": [
    "def display(data, labels, samples_per_label=5):\n",
    "    unique_labels = np.unique(labels)\n",
    "    num_unique_labels = len(unique_labels)\n",
    "\n",
    "    plt.figure(figsize=(samples_per_label * 2, num_unique_labels * 2))\n",
    "\n",
    "    for i, label in enumerate(unique_labels):\n",
    "        indices = np.where(labels == label)[0]\n",
    "\n",
    "        if len(indices) == 0:\n",
    "            print(f\"Tidak ada gambar ditemukan untuk label: {label}\")\n",
    "            continue\n",
    "\n",
    "        selected_indices = indices[:samples_per_label]\n",
    "\n",
    "        for j, idx in enumerate(selected_indices):\n",
    "            plt.subplot(num_unique_labels, samples_per_label, i * samples_per_label + j + 1)\n",
    "            plt.imshow(data[idx], cmap='gray')\n",
    "            plt.axis('off')\n",
    "\n",
    "            if j == 0:\n",
    "                plt.title(f\"Label: {label}\")\n",
    "\n",
    "    plt.tight_layout()\n",
    "    plt.show()"
   ]
  },
  {
   "cell_type": "markdown",
   "id": "ab1ca68d",
   "metadata": {},
   "source": [
    "Fungsi ini secara umum digunakan untuk menampilkan contoh-contoh gambar dari setiap kategori dalam dataset secara terstruktur. Gambar-gambar ditampilkan dalam grid, di mana setiap baris dikelompokkan berdasarkan label atau kelas yang berbeda. Untuk setiap kategori, sejumlah gambar akan ditampilkan dalam beberapa baris dan kolom sesuai jumlah yang telah ditentukan. Fungsi ini membantu dalam memvisualisasikan sebaran data dan memastikan bahwa gambar dalam setiap kategori telah dimuat dengan benar. Judul label ditampilkan hanya sekali di bagian atas blok gambar agar lebih jelas dan tidak membingungkan.\n"
   ]
  },
  {
   "cell_type": "markdown",
   "id": "db12c1a0-9ee8-47f8-992f-993dc369a7f4",
   "metadata": {},
   "source": [
    "## Data Loading"
   ]
  },
  {
   "cell_type": "code",
   "execution_count": 4,
   "id": "b404269d-10fa-4302-89b0-2269dfe11dce",
   "metadata": {},
   "outputs": [],
   "source": [
    "data = []\n",
    "labels = []\n",
    "file_name = []\n",
    "\n",
    "for sub_folder in os.listdir(\"dataset\\\\\"):\n",
    "    sub_folder_files = os.listdir(os.path.join(\"dataset\\\\\", sub_folder))\n",
    "    for i, filename in enumerate(sub_folder_files):\n",
    "        img_path = os.path.join(\"dataset\\\\\", sub_folder, filename)\n",
    "        img = cv.imread(img_path)\n",
    "        img = cv.cvtColor(img, cv.COLOR_BGR2GRAY)\n",
    "        img = resize(img, 256, 256)\n",
    "        data.append(img)\n",
    "        labels.append(sub_folder)\n",
    "        name = os.path.splitext(filename)[0]\n",
    "        file_name.append(filename)\n",
    "\n",
    "data = np.array(data)\n",
    "labels = np.array(labels)"
   ]
  },
  {
   "cell_type": "markdown",
   "id": "272803af",
   "metadata": {},
   "source": [
    "Fungsi pemuatan data ini secara umum bertujuan untuk membaca seluruh gambar dari suatu folder dataset yang tersusun berdasarkan kategori. Setiap gambar yang ditemukan akan diproses dengan cara diubah ke format hitam putih dan disesuaikan ukurannya agar seragam. Proses ini juga menyaring gambar yang rusak atau tidak bisa dibaca. Setelah itu, semua gambar yang telah diproses, beserta informasi kategorinya, dikumpulkan dan disiapkan dalam bentuk struktur data yang rapi agar dapat digunakan pada tahap analisis atau pelatihan model selanjutnya.\n"
   ]
  },
  {
   "cell_type": "markdown",
   "id": "2d60f3ad",
   "metadata": {},
   "source": [
    "## Define Median Function"
   ]
  },
  {
   "cell_type": "code",
   "execution_count": 5,
   "id": "649b7a5a-4ed6-4bd1-a74e-8708333d548e",
   "metadata": {},
   "outputs": [],
   "source": [
    "def median(image, size):\n",
    "    paddedImage = np.pad(image, ((size//2, size//2), (size//2, size//2)), mode='edge')\n",
    "    newImage = np.zeros(image.shape)\n",
    "\n",
    "    for y in range(image.shape[1]):\n",
    "        for x in range(image.shape[0]):\n",
    "            area = paddedImage[y:y + size, x:x + size]\n",
    "            values = area.flatten()\n",
    "            sortedValues = sorted(values)\n",
    "            medianValue = sortedValues[len(sortedValues) // 2]\n",
    "            newImage[y, x] = medianValue\n",
    "    return newImage"
   ]
  },
  {
   "cell_type": "markdown",
   "id": "adc3deeb",
   "metadata": {},
   "source": [
    "Fungsi diatas bertujuan untuk melakukan median filtering pada citra. Gambar akan diperluas di sekelilingnya agar setiap piksel memiliki area sebesar size × size. Lalu, untuk setiap piksel, fungsi mengambil area sekitarnya, meratakannya menjadi array, mengurutkan nilainya, dan mengambil nilai tengah (median), yang kemudian digunakan sebagai nilai baru piksel tersebut. "
   ]
  },
  {
   "cell_type": "code",
   "execution_count": 6,
   "id": "5bb090ed-053b-4552-8589-3d706727b189",
   "metadata": {},
   "outputs": [],
   "source": [
    "data_preprocessed = []\n",
    "labels_preprocessed = []\n",
    "\n",
    "for i in range(len(data)):\n",
    "    img = data[i]\n",
    "    lbl = labels[i]\n",
    "\n",
    "    img_median = median(img, 3)\n",
    "    data_preprocessed.append(img_median)\n",
    "    labels_preprocessed.append(lbl)\n",
    "\n",
    "data_preprocessed = np.array(data_preprocessed)\n",
    "labels_preprocessed = np.array(labels_preprocessed)"
   ]
  },
  {
   "cell_type": "markdown",
   "id": "b91efe73",
   "metadata": {},
   "source": [
    "Bagian kode diatas melakukan preprocessing data citra dengan menerapkan filter median berukuran 3×3 pada setiap gambar dalam dataset data, lalu hasilnya disimpan dalam data_preprocessed, sementara label tetap disimpan dalam labels_preprocessed. Setelah seluruh data selesai diproses, kedua list tersebut dikonversi menjadi array."
   ]
  },
  {
   "cell_type": "markdown",
   "id": "09e867f6",
   "metadata": {},
   "source": [
    "# FEATURE EXTRACTION"
   ]
  },
  {
   "cell_type": "code",
   "execution_count": 7,
   "id": "0ad5e62f-26f3-4e63-b83a-5b5d4f5c8586",
   "metadata": {},
   "outputs": [],
   "source": [
    "def glcm(image, derajat):\n",
    "    if image.dtype != np.uint8 and image.dtype != np.uint16:\n",
    "        image = (image * 255).astype(np.uint8)\n",
    "\n",
    "    if derajat == 0:\n",
    "        angles = [0]\n",
    "    elif derajat == 45:\n",
    "        angles = [np.pi / 4]\n",
    "    elif derajat == 90:\n",
    "        angles = [np.pi / 2]\n",
    "    elif derajat == 135:\n",
    "        angles = [3 * np.pi / 4]\n",
    "    else:\n",
    "        raise ValueError(\"Invalid angle. It should be one of the following: 0, 45, 90, 135.\")\n",
    "\n",
    "    glcm = graycomatrix(image, [1], angles, levels=256, symmetric=True, normed=True)\n",
    "    return glcm"
   ]
  },
  {
   "cell_type": "markdown",
   "id": "a4a681ff",
   "metadata": {},
   "source": [
    "Fungsi `glcm` digunakan untuk menghitung matriks GLCM dari citra berdasarkan arah tertentu (0°, 45°, 90°, atau 135°). Matriks ini merepresentasikan pola tekstur citra berdasarkan hubungan antar piksel dalam arah yang dipilih.\n"
   ]
  },
  {
   "cell_type": "code",
   "execution_count": 8,
   "id": "f7727cb7-717c-40e8-ab77-06d4a87a76c3",
   "metadata": {},
   "outputs": [],
   "source": [
    "def correlation(matriks):\n",
    "\treturn graycoprops(matriks, 'correlation')[0, 0]"
   ]
  },
  {
   "cell_type": "markdown",
   "id": "a4e4da9f",
   "metadata": {},
   "source": [
    "Fungsi ini digunakan untuk menghitung nilai **correlation** dari matriks GLCM. Nilai ini menggambarkan hubungan linear antar piksel dalam tekstur citra.\n"
   ]
  },
  {
   "cell_type": "code",
   "execution_count": 9,
   "id": "7708817b-b7da-4d06-ac95-9d702c8ca7e6",
   "metadata": {},
   "outputs": [],
   "source": [
    "def dissimilarity(matriks):\n",
    "    return graycoprops(matriks, 'dissimilarity')[0, 0]"
   ]
  },
  {
   "cell_type": "markdown",
   "id": "d073d130",
   "metadata": {},
   "source": [
    "Fungsi ini digunakan untuk menghitung nilai **dissimilarity** dari matriks GLCM, yang menunjukkan seberapa berbeda nilai piksel yang berdekatan dalam tekstur citra.\n"
   ]
  },
  {
   "cell_type": "code",
   "execution_count": 10,
   "id": "9f805348-4d67-4aa7-b504-4a30e3fd2ca5",
   "metadata": {},
   "outputs": [],
   "source": [
    "def homogenity(matriks):\n",
    "    return graycoprops(matriks, 'homogeneity')[0, 0]"
   ]
  },
  {
   "cell_type": "markdown",
   "id": "9060f187",
   "metadata": {},
   "source": [
    "Fungsi ini digunakan untuk menghitung nilai **homogeneity** dari matriks GLCM, yang mengukur keseragaman tekstur dengan melihat seberapa mirip nilai piksel yang berdekatan.\n"
   ]
  },
  {
   "cell_type": "code",
   "execution_count": 11,
   "id": "bd7eab1d-8d46-4eef-a5cd-ebf2ee9a43c0",
   "metadata": {},
   "outputs": [],
   "source": [
    "def contrast(matriks):\n",
    "    return graycoprops(matriks, 'contrast')[0, 0]"
   ]
  },
  {
   "cell_type": "markdown",
   "id": "c4288e9f",
   "metadata": {},
   "source": [
    "Fungsi ini digunakan untuk menghitung nilai **contrast** dari matriks GLCM, yang mengukur tingkat perbedaan atau variasi intensitas piksel dalam tekstur citra.\n"
   ]
  },
  {
   "cell_type": "code",
   "execution_count": 12,
   "id": "606ab165-1bb6-4c91-9e33-0507f56336a7",
   "metadata": {},
   "outputs": [],
   "source": [
    "def ASM(matriks):\n",
    "    return graycoprops(matriks, 'ASM')[0, 0]"
   ]
  },
  {
   "cell_type": "markdown",
   "id": "ffff2ff7",
   "metadata": {},
   "source": [
    "Fungsi ini digunakan untuk menghitung nilai **ASM** (Angular Second Moment) dari matriks GLCM, yang mengukur keteraturan atau energi tekstur citra.\n"
   ]
  },
  {
   "cell_type": "code",
   "execution_count": 13,
   "id": "43c3e41f-e366-43c5-aae9-92ba45f7a701",
   "metadata": {},
   "outputs": [],
   "source": [
    "def energy(matriks):\n",
    "    return graycoprops(matriks, 'energy')[0, 0]"
   ]
  },
  {
   "cell_type": "markdown",
   "id": "d6fbe497",
   "metadata": {},
   "source": [
    "Fungsi ini digunakan untuk menghitung nilai **energy** dari matriks GLCM, yang menunjukkan kekuatan atau intensitas tekstur citra berdasarkan konsentrasi pola tertentu.\n"
   ]
  },
  {
   "cell_type": "code",
   "execution_count": 14,
   "id": "78354ece-c2fd-4766-b151-9cf4e4d9858e",
   "metadata": {},
   "outputs": [],
   "source": [
    "def entropyGlcm(matriks):\n",
    "    return entropy(matriks.ravel())"
   ]
  },
  {
   "cell_type": "markdown",
   "id": "8c21d2e3",
   "metadata": {},
   "source": [
    "Fungsi ini digunakan untuk menghitung nilai **entropy** dari matriks GLCM, yang mengukur tingkat ketidakpastian atau kompleksitas tekstur citra.\n"
   ]
  },
  {
   "cell_type": "code",
   "execution_count": 15,
   "id": "a5cdbbb7-1b14-4468-8e40-4355792c50dd",
   "metadata": {},
   "outputs": [],
   "source": [
    "Derajat0 = []\n",
    "Derajat45 = []\n",
    "Derajat90 = []\n",
    "Derajat135 = []\n",
    "for i in range(len(data_preprocessed)):\n",
    "    D0 = glcm(data_preprocessed[i], 0)\n",
    "    D45 = glcm(data_preprocessed[i], 45)\n",
    "    D90 = glcm(data_preprocessed[i], 90)\n",
    "    D135 = glcm(data_preprocessed[i], 135)\n",
    "    Derajat0.append(D0)\n",
    "    Derajat45.append(D45)\n",
    "    Derajat90.append(D90)\n",
    "    Derajat135.append(D135)"
   ]
  },
  {
   "cell_type": "markdown",
   "id": "dc972ef6",
   "metadata": {},
   "source": [
    "Kode ini melakukan perhitungan matriks GLCM untuk setiap gambar dalam data pada empat arah sudut berbeda: 0°, 45°, 90°, dan 135°. Hasil matriks GLCM dari masing-masing arah tersebut disimpan secara terpisah dalam daftar yang sesuai, sehingga memudahkan analisis tekstur citra berdasarkan berbagai orientasi piksel.\n"
   ]
  },
  {
   "cell_type": "code",
   "execution_count": 16,
   "id": "feecdf12-d474-4057-a3e4-6a03b5027b30",
   "metadata": {},
   "outputs": [],
   "source": [
    "Kontras0, Kontras45, Kontras90, Kontras135 = [], [], [], []\n",
    "dissimilarity0, dissimilarity45, dissimilarity90, dissimilarity135 =  [], [], [], []\n",
    "homogenity0, homogenity45, homogenity90, homogenity135 = [], [], [], []\n",
    "entropy0, entropy45, entropy90, entropy135 =  [], [], [], []\n",
    "ASM0, ASM45, ASM90, ASM135 =  [], [], [], []\n",
    "energy0, energy45, energy90, energy135 =  [], [], [], []\n",
    "correlation0, correlation45, correlation90, correlation135 = [], [], [], []"
   ]
  },
  {
   "cell_type": "markdown",
   "id": "661fd3fc",
   "metadata": {},
   "source": [
    "Kode ini mendefinisikan beberapa daftar kosong untuk menyimpan hasil ekstraksi fitur tekstur dari matriks GLCM pada empat arah sudut berbeda (0°, 45°, 90°, dan 135°). Setiap fitur seperti kontras, dissimilarity, homogenitas, entropi, ASM, energi, dan korelasi akan dikumpulkan secara terpisah berdasarkan arah sudutnya.\n"
   ]
  },
  {
   "cell_type": "code",
   "execution_count": 17,
   "id": "e1584a35-67e6-41ab-b233-4c9791a7b9a7",
   "metadata": {},
   "outputs": [],
   "source": [
    "for i in range(len(data_preprocessed)):\n",
    "    C0 = correlation(Derajat0[i])\n",
    "    correlation0.append(C0)\n",
    "    C45 = correlation(Derajat45[i])\n",
    "    correlation45.append(C45)\n",
    "    C90 = correlation(Derajat90[i])\n",
    "    correlation90.append(C90)\n",
    "    C135 = correlation(Derajat135[i])\n",
    "    correlation135.append(C135)"
   ]
  },
  {
   "cell_type": "markdown",
   "id": "f345fea6",
   "metadata": {},
   "source": [
    "Kode ini menghitung nilai korelasi tekstur dari setiap matriks GLCM yang sudah dibuat untuk masing-masing arah sudut (0°, 45°, 90°, dan 135°) pada seluruh data gambar. Hasil nilai korelasi tersebut kemudian disimpan ke dalam daftar yang sesuai untuk setiap arah sudut.\n"
   ]
  },
  {
   "cell_type": "code",
   "execution_count": 18,
   "id": "6a26e8b8-42ef-486d-8eb5-201cce7fd841",
   "metadata": {},
   "outputs": [],
   "source": [
    "for i in range(len(data_preprocessed)):\n",
    "    K0 = contrast(Derajat0[i])\n",
    "    K45 = contrast(Derajat45[i])\n",
    "    K90 = contrast(Derajat90[i])\n",
    "    K135 = contrast(Derajat135[i])\n",
    "    Kontras0.append(K0)\n",
    "    Kontras45.append(K45)\n",
    "    Kontras90.append(K90)\n",
    "    Kontras135.append(K135)"
   ]
  },
  {
   "cell_type": "markdown",
   "id": "efc34ea0",
   "metadata": {},
   "source": [
    "Kode ini menghitung nilai kontras tekstur dari setiap matriks GLCM pada empat arah sudut (0°, 45°, 90°, dan 135°) untuk seluruh data gambar. Setiap hasil kontras yang diperoleh kemudian disimpan ke dalam daftar yang sesuai berdasarkan arah sudutnya.\n"
   ]
  },
  {
   "cell_type": "code",
   "execution_count": 19,
   "id": "1253b4c2-65d8-443b-aa66-930b71278f2a",
   "metadata": {},
   "outputs": [],
   "source": [
    "for i in range(len(data_preprocessed)):\n",
    "    Dis0 = dissimilarity(Derajat0[i])\n",
    "    Dis45 = dissimilarity(Derajat45[i])\n",
    "    Dis90 = dissimilarity(Derajat90[i])\n",
    "    Dis135 = dissimilarity(Derajat135[i])\n",
    "    dissimilarity0.append(Dis0)\n",
    "    dissimilarity45.append(Dis45)\n",
    "    dissimilarity90.append(Dis90)\n",
    "    dissimilarity135.append(Dis135)"
   ]
  },
  {
   "cell_type": "markdown",
   "id": "a306b7fb",
   "metadata": {},
   "source": [
    "Kode ini digunakan untuk menghitung nilai dissimilarity dari matriks GLCM pada empat arah sudut (0°, 45°, 90°, dan 135°) untuk setiap gambar dalam data. Nilai dissimilarity yang diperoleh kemudian disimpan secara terpisah dalam daftar sesuai dengan arah sudutnya.\n"
   ]
  },
  {
   "cell_type": "code",
   "execution_count": 20,
   "id": "58ee82ff-daeb-4c44-a1db-d3d38cf334e3",
   "metadata": {},
   "outputs": [],
   "source": [
    "for i in range(len(data_preprocessed)):\n",
    "    H0 = homogenity(Derajat0[i])\n",
    "    H45 = homogenity(Derajat45[i])\n",
    "    H90 = homogenity(Derajat90[i])\n",
    "    H135 = homogenity(Derajat135[i])\n",
    "    homogenity0.append(H0)\n",
    "    homogenity45.append(H45)\n",
    "    homogenity90.append(H90)\n",
    "    homogenity135.append(H135)"
   ]
  },
  {
   "cell_type": "markdown",
   "id": "24d47d7f",
   "metadata": {},
   "source": [
    "Kode ini menghitung nilai homogenitas dari matriks GLCM pada empat arah sudut (0°, 45°, 90°, dan 135°) untuk setiap gambar dalam data. Nilai homogenitas tersebut kemudian disimpan dalam daftar terpisah sesuai dengan arah sudutnya.\n"
   ]
  },
  {
   "cell_type": "code",
   "execution_count": 21,
   "id": "b7a43952-de65-47ca-b609-1a6584ae5357",
   "metadata": {},
   "outputs": [],
   "source": [
    "for i in range(len(data_preprocessed)):\n",
    "    E0 = entropyGlcm(Derajat0[i])\n",
    "    E45 = entropyGlcm(Derajat45[i])\n",
    "    E90 = entropyGlcm(Derajat90[i])\n",
    "    E135 = entropyGlcm(Derajat135[i])\n",
    "    entropy0.append(E0)\n",
    "    entropy45.append(E45)\n",
    "    entropy90.append(E90)\n",
    "    entropy135.append(E135)"
   ]
  },
  {
   "cell_type": "markdown",
   "id": "952f90c6",
   "metadata": {},
   "source": [
    "Kode ini menghitung nilai entropi dari matriks GLCM pada empat arah sudut (0°, 45°, 90°, dan 135°) untuk setiap gambar dalam data. Nilai entropi tersebut kemudian disimpan dalam daftar terpisah sesuai dengan arah sudutnya.\n"
   ]
  },
  {
   "cell_type": "code",
   "execution_count": 22,
   "id": "4cca76c3-8f38-412c-b5b6-b8f7feee6bd4",
   "metadata": {},
   "outputs": [],
   "source": [
    "for i in range(len(data_preprocessed)):\n",
    "    A0 = ASM(Derajat0[i])\n",
    "    A45 = ASM(Derajat45[i])\n",
    "    A90 = ASM(Derajat90[i])\n",
    "    A135 = ASM(Derajat135[i])\n",
    "    ASM0.append(A0)\n",
    "    ASM45.append(A45)\n",
    "    ASM90.append(A90)\n",
    "    ASM135.append(A135)"
   ]
  },
  {
   "cell_type": "markdown",
   "id": "45d4b24b",
   "metadata": {},
   "source": [
    "Kode ini menghitung nilai ASM (Angular Second Moment) dari matriks GLCM pada empat arah sudut (0°, 45°, 90°, dan 135°) untuk setiap gambar dalam data. Hasil nilai ASM disimpan secara terpisah dalam daftar sesuai dengan arah sudutnya.\n"
   ]
  },
  {
   "cell_type": "code",
   "execution_count": 23,
   "id": "75aad4da-117e-4770-9ed9-a77a99034859",
   "metadata": {},
   "outputs": [],
   "source": [
    "for i in range(len(data_preprocessed)):\n",
    "    ER0 = energy(Derajat0[i])\n",
    "    ER45 = energy(Derajat45[i])\n",
    "    ER90 = energy(Derajat90[i])\n",
    "    ER135 = energy(Derajat135[i])\n",
    "    energy0.append(ER0)\n",
    "    energy45.append(ER45)\n",
    "    energy90.append(ER90)\n",
    "    energy135.append(ER135)"
   ]
  },
  {
   "cell_type": "markdown",
   "id": "f8c4becd",
   "metadata": {},
   "source": [
    "Kode ini menghitung nilai energy dari matriks GLCM pada empat arah sudut (0°, 45°, 90°, dan 135°) untuk setiap gambar dalam data. Hasil nilai energy tersebut kemudian disimpan dalam daftar terpisah sesuai dengan arah sudutnya.\n"
   ]
  },
  {
   "cell_type": "markdown",
   "id": "9bbb3e97",
   "metadata": {},
   "source": [
    "### Extraction results to CSV "
   ]
  },
  {
   "cell_type": "markdown",
   "id": "89cb6171",
   "metadata": {},
   "source": [
    "Kode ini menggabungkan semua fitur tekstur hasil ekstraksi beserta nama file dan labelnya ke dalam sebuah tabel (DataFrame) menggunakan pandas. Setelah itu, tabel tersebut disimpan ke file CSV untuk penyimpanan dan analisis selanjutnya, lalu file CSV tersebut dibaca kembali dan ditampilkan sebagai output.\n"
   ]
  },
  {
   "cell_type": "code",
   "execution_count": 24,
   "id": "2d91efd4-39fb-4a9c-8cc5-131795378675",
   "metadata": {},
   "outputs": [
    {
     "data": {
      "text/html": [
       "<div>\n",
       "<style scoped>\n",
       "    .dataframe tbody tr th:only-of-type {\n",
       "        vertical-align: middle;\n",
       "    }\n",
       "\n",
       "    .dataframe tbody tr th {\n",
       "        vertical-align: top;\n",
       "    }\n",
       "\n",
       "    .dataframe thead th {\n",
       "        text-align: right;\n",
       "    }\n",
       "</style>\n",
       "<table border=\"1\" class=\"dataframe\">\n",
       "  <thead>\n",
       "    <tr style=\"text-align: right;\">\n",
       "      <th></th>\n",
       "      <th>Filename</th>\n",
       "      <th>Label</th>\n",
       "      <th>Contrast0</th>\n",
       "      <th>Contrast45</th>\n",
       "      <th>Contrast90</th>\n",
       "      <th>Contrast135</th>\n",
       "      <th>Homogeneity0</th>\n",
       "      <th>Homogeneity45</th>\n",
       "      <th>Homogeneity90</th>\n",
       "      <th>Homogeneity135</th>\n",
       "      <th>...</th>\n",
       "      <th>ASM90</th>\n",
       "      <th>ASM135</th>\n",
       "      <th>Energy0</th>\n",
       "      <th>Energy45</th>\n",
       "      <th>Energy90</th>\n",
       "      <th>Energy135</th>\n",
       "      <th>Correlation0</th>\n",
       "      <th>Correlation45</th>\n",
       "      <th>Correlation90</th>\n",
       "      <th>Correlation135</th>\n",
       "    </tr>\n",
       "  </thead>\n",
       "  <tbody>\n",
       "    <tr>\n",
       "      <th>0</th>\n",
       "      <td>freshPotato (1).png</td>\n",
       "      <td>fresh</td>\n",
       "      <td>90.695129</td>\n",
       "      <td>143.334010</td>\n",
       "      <td>98.988266</td>\n",
       "      <td>136.190850</td>\n",
       "      <td>0.644336</td>\n",
       "      <td>0.572157</td>\n",
       "      <td>0.650819</td>\n",
       "      <td>0.583527</td>\n",
       "      <td>...</td>\n",
       "      <td>0.088684</td>\n",
       "      <td>0.085838</td>\n",
       "      <td>0.297832</td>\n",
       "      <td>0.293010</td>\n",
       "      <td>0.297799</td>\n",
       "      <td>0.292982</td>\n",
       "      <td>0.981398</td>\n",
       "      <td>0.970558</td>\n",
       "      <td>0.979697</td>\n",
       "      <td>0.972025</td>\n",
       "    </tr>\n",
       "    <tr>\n",
       "      <th>1</th>\n",
       "      <td>freshPotato (10).png</td>\n",
       "      <td>fresh</td>\n",
       "      <td>19.240809</td>\n",
       "      <td>35.808351</td>\n",
       "      <td>24.684314</td>\n",
       "      <td>31.644567</td>\n",
       "      <td>0.899623</td>\n",
       "      <td>0.879375</td>\n",
       "      <td>0.915373</td>\n",
       "      <td>0.883205</td>\n",
       "      <td>...</td>\n",
       "      <td>0.558660</td>\n",
       "      <td>0.554352</td>\n",
       "      <td>0.746256</td>\n",
       "      <td>0.744664</td>\n",
       "      <td>0.747435</td>\n",
       "      <td>0.744548</td>\n",
       "      <td>0.987389</td>\n",
       "      <td>0.976592</td>\n",
       "      <td>0.983821</td>\n",
       "      <td>0.979314</td>\n",
       "    </tr>\n",
       "    <tr>\n",
       "      <th>2</th>\n",
       "      <td>freshPotato (11).png</td>\n",
       "      <td>fresh</td>\n",
       "      <td>82.398100</td>\n",
       "      <td>151.639339</td>\n",
       "      <td>120.194730</td>\n",
       "      <td>157.304883</td>\n",
       "      <td>0.808650</td>\n",
       "      <td>0.774525</td>\n",
       "      <td>0.801748</td>\n",
       "      <td>0.774500</td>\n",
       "      <td>...</td>\n",
       "      <td>0.501018</td>\n",
       "      <td>0.498135</td>\n",
       "      <td>0.709056</td>\n",
       "      <td>0.706340</td>\n",
       "      <td>0.707826</td>\n",
       "      <td>0.705787</td>\n",
       "      <td>0.979875</td>\n",
       "      <td>0.963058</td>\n",
       "      <td>0.970643</td>\n",
       "      <td>0.961678</td>\n",
       "    </tr>\n",
       "    <tr>\n",
       "      <th>3</th>\n",
       "      <td>freshPotato (12).png</td>\n",
       "      <td>fresh</td>\n",
       "      <td>43.429810</td>\n",
       "      <td>96.650673</td>\n",
       "      <td>81.415656</td>\n",
       "      <td>97.599662</td>\n",
       "      <td>0.770152</td>\n",
       "      <td>0.714767</td>\n",
       "      <td>0.753254</td>\n",
       "      <td>0.719638</td>\n",
       "      <td>...</td>\n",
       "      <td>0.298716</td>\n",
       "      <td>0.295371</td>\n",
       "      <td>0.547023</td>\n",
       "      <td>0.543534</td>\n",
       "      <td>0.546549</td>\n",
       "      <td>0.543480</td>\n",
       "      <td>0.987685</td>\n",
       "      <td>0.972615</td>\n",
       "      <td>0.976905</td>\n",
       "      <td>0.972346</td>\n",
       "    </tr>\n",
       "    <tr>\n",
       "      <th>4</th>\n",
       "      <td>freshPotato (13).png</td>\n",
       "      <td>fresh</td>\n",
       "      <td>75.167586</td>\n",
       "      <td>131.196340</td>\n",
       "      <td>83.491452</td>\n",
       "      <td>101.380577</td>\n",
       "      <td>0.794964</td>\n",
       "      <td>0.763849</td>\n",
       "      <td>0.803831</td>\n",
       "      <td>0.769582</td>\n",
       "      <td>...</td>\n",
       "      <td>0.448964</td>\n",
       "      <td>0.446605</td>\n",
       "      <td>0.670218</td>\n",
       "      <td>0.667129</td>\n",
       "      <td>0.670048</td>\n",
       "      <td>0.668285</td>\n",
       "      <td>0.988099</td>\n",
       "      <td>0.979273</td>\n",
       "      <td>0.986781</td>\n",
       "      <td>0.983984</td>\n",
       "    </tr>\n",
       "    <tr>\n",
       "      <th>...</th>\n",
       "      <td>...</td>\n",
       "      <td>...</td>\n",
       "      <td>...</td>\n",
       "      <td>...</td>\n",
       "      <td>...</td>\n",
       "      <td>...</td>\n",
       "      <td>...</td>\n",
       "      <td>...</td>\n",
       "      <td>...</td>\n",
       "      <td>...</td>\n",
       "      <td>...</td>\n",
       "      <td>...</td>\n",
       "      <td>...</td>\n",
       "      <td>...</td>\n",
       "      <td>...</td>\n",
       "      <td>...</td>\n",
       "      <td>...</td>\n",
       "      <td>...</td>\n",
       "      <td>...</td>\n",
       "      <td>...</td>\n",
       "      <td>...</td>\n",
       "    </tr>\n",
       "    <tr>\n",
       "      <th>145</th>\n",
       "      <td>rottenPotato (73).png</td>\n",
       "      <td>rotten</td>\n",
       "      <td>188.335907</td>\n",
       "      <td>259.274541</td>\n",
       "      <td>184.611229</td>\n",
       "      <td>319.341376</td>\n",
       "      <td>0.736264</td>\n",
       "      <td>0.715808</td>\n",
       "      <td>0.735220</td>\n",
       "      <td>0.701614</td>\n",
       "      <td>...</td>\n",
       "      <td>0.374588</td>\n",
       "      <td>0.370656</td>\n",
       "      <td>0.610844</td>\n",
       "      <td>0.610116</td>\n",
       "      <td>0.612036</td>\n",
       "      <td>0.608815</td>\n",
       "      <td>0.980790</td>\n",
       "      <td>0.973594</td>\n",
       "      <td>0.981159</td>\n",
       "      <td>0.967477</td>\n",
       "    </tr>\n",
       "    <tr>\n",
       "      <th>146</th>\n",
       "      <td>rottenPotato (74).png</td>\n",
       "      <td>rotten</td>\n",
       "      <td>219.232613</td>\n",
       "      <td>412.887305</td>\n",
       "      <td>312.838266</td>\n",
       "      <td>368.298454</td>\n",
       "      <td>0.703989</td>\n",
       "      <td>0.669294</td>\n",
       "      <td>0.698999</td>\n",
       "      <td>0.668345</td>\n",
       "      <td>...</td>\n",
       "      <td>0.370088</td>\n",
       "      <td>0.368311</td>\n",
       "      <td>0.609775</td>\n",
       "      <td>0.606410</td>\n",
       "      <td>0.608349</td>\n",
       "      <td>0.606886</td>\n",
       "      <td>0.977648</td>\n",
       "      <td>0.957977</td>\n",
       "      <td>0.968124</td>\n",
       "      <td>0.962515</td>\n",
       "    </tr>\n",
       "    <tr>\n",
       "      <th>147</th>\n",
       "      <td>rottenPotato (75).png</td>\n",
       "      <td>rotten</td>\n",
       "      <td>183.396814</td>\n",
       "      <td>344.899039</td>\n",
       "      <td>259.320282</td>\n",
       "      <td>316.077140</td>\n",
       "      <td>0.731745</td>\n",
       "      <td>0.701220</td>\n",
       "      <td>0.732472</td>\n",
       "      <td>0.699148</td>\n",
       "      <td>...</td>\n",
       "      <td>0.378873</td>\n",
       "      <td>0.376253</td>\n",
       "      <td>0.616475</td>\n",
       "      <td>0.612904</td>\n",
       "      <td>0.615527</td>\n",
       "      <td>0.613395</td>\n",
       "      <td>0.985535</td>\n",
       "      <td>0.972841</td>\n",
       "      <td>0.979546</td>\n",
       "      <td>0.975111</td>\n",
       "    </tr>\n",
       "    <tr>\n",
       "      <th>148</th>\n",
       "      <td>rottenPotato (8).png</td>\n",
       "      <td>rotten</td>\n",
       "      <td>116.002083</td>\n",
       "      <td>181.146882</td>\n",
       "      <td>106.775858</td>\n",
       "      <td>162.313295</td>\n",
       "      <td>0.793607</td>\n",
       "      <td>0.767101</td>\n",
       "      <td>0.803330</td>\n",
       "      <td>0.769277</td>\n",
       "      <td>...</td>\n",
       "      <td>0.495679</td>\n",
       "      <td>0.492584</td>\n",
       "      <td>0.703913</td>\n",
       "      <td>0.701457</td>\n",
       "      <td>0.704045</td>\n",
       "      <td>0.701843</td>\n",
       "      <td>0.986237</td>\n",
       "      <td>0.978559</td>\n",
       "      <td>0.987331</td>\n",
       "      <td>0.980789</td>\n",
       "    </tr>\n",
       "    <tr>\n",
       "      <th>149</th>\n",
       "      <td>rottenPotato (9).png</td>\n",
       "      <td>rotten</td>\n",
       "      <td>173.935172</td>\n",
       "      <td>222.377547</td>\n",
       "      <td>107.704565</td>\n",
       "      <td>187.106590</td>\n",
       "      <td>0.830092</td>\n",
       "      <td>0.811417</td>\n",
       "      <td>0.847704</td>\n",
       "      <td>0.818182</td>\n",
       "      <td>...</td>\n",
       "      <td>0.583555</td>\n",
       "      <td>0.579895</td>\n",
       "      <td>0.762781</td>\n",
       "      <td>0.761061</td>\n",
       "      <td>0.763908</td>\n",
       "      <td>0.761508</td>\n",
       "      <td>0.968663</td>\n",
       "      <td>0.960052</td>\n",
       "      <td>0.980595</td>\n",
       "      <td>0.966389</td>\n",
       "    </tr>\n",
       "  </tbody>\n",
       "</table>\n",
       "<p>150 rows × 30 columns</p>\n",
       "</div>"
      ],
      "text/plain": [
       "                  Filename   Label   Contrast0  Contrast45  Contrast90  \\\n",
       "0      freshPotato (1).png   fresh   90.695129  143.334010   98.988266   \n",
       "1     freshPotato (10).png   fresh   19.240809   35.808351   24.684314   \n",
       "2     freshPotato (11).png   fresh   82.398100  151.639339  120.194730   \n",
       "3     freshPotato (12).png   fresh   43.429810   96.650673   81.415656   \n",
       "4     freshPotato (13).png   fresh   75.167586  131.196340   83.491452   \n",
       "..                     ...     ...         ...         ...         ...   \n",
       "145  rottenPotato (73).png  rotten  188.335907  259.274541  184.611229   \n",
       "146  rottenPotato (74).png  rotten  219.232613  412.887305  312.838266   \n",
       "147  rottenPotato (75).png  rotten  183.396814  344.899039  259.320282   \n",
       "148   rottenPotato (8).png  rotten  116.002083  181.146882  106.775858   \n",
       "149   rottenPotato (9).png  rotten  173.935172  222.377547  107.704565   \n",
       "\n",
       "     Contrast135  Homogeneity0  Homogeneity45  Homogeneity90  Homogeneity135  \\\n",
       "0     136.190850      0.644336       0.572157       0.650819        0.583527   \n",
       "1      31.644567      0.899623       0.879375       0.915373        0.883205   \n",
       "2     157.304883      0.808650       0.774525       0.801748        0.774500   \n",
       "3      97.599662      0.770152       0.714767       0.753254        0.719638   \n",
       "4     101.380577      0.794964       0.763849       0.803831        0.769582   \n",
       "..           ...           ...            ...            ...             ...   \n",
       "145   319.341376      0.736264       0.715808       0.735220        0.701614   \n",
       "146   368.298454      0.703989       0.669294       0.698999        0.668345   \n",
       "147   316.077140      0.731745       0.701220       0.732472        0.699148   \n",
       "148   162.313295      0.793607       0.767101       0.803330        0.769277   \n",
       "149   187.106590      0.830092       0.811417       0.847704        0.818182   \n",
       "\n",
       "     ...     ASM90    ASM135   Energy0  Energy45  Energy90  Energy135  \\\n",
       "0    ...  0.088684  0.085838  0.297832  0.293010  0.297799   0.292982   \n",
       "1    ...  0.558660  0.554352  0.746256  0.744664  0.747435   0.744548   \n",
       "2    ...  0.501018  0.498135  0.709056  0.706340  0.707826   0.705787   \n",
       "3    ...  0.298716  0.295371  0.547023  0.543534  0.546549   0.543480   \n",
       "4    ...  0.448964  0.446605  0.670218  0.667129  0.670048   0.668285   \n",
       "..   ...       ...       ...       ...       ...       ...        ...   \n",
       "145  ...  0.374588  0.370656  0.610844  0.610116  0.612036   0.608815   \n",
       "146  ...  0.370088  0.368311  0.609775  0.606410  0.608349   0.606886   \n",
       "147  ...  0.378873  0.376253  0.616475  0.612904  0.615527   0.613395   \n",
       "148  ...  0.495679  0.492584  0.703913  0.701457  0.704045   0.701843   \n",
       "149  ...  0.583555  0.579895  0.762781  0.761061  0.763908   0.761508   \n",
       "\n",
       "     Correlation0  Correlation45  Correlation90  Correlation135  \n",
       "0        0.981398       0.970558       0.979697        0.972025  \n",
       "1        0.987389       0.976592       0.983821        0.979314  \n",
       "2        0.979875       0.963058       0.970643        0.961678  \n",
       "3        0.987685       0.972615       0.976905        0.972346  \n",
       "4        0.988099       0.979273       0.986781        0.983984  \n",
       "..            ...            ...            ...             ...  \n",
       "145      0.980790       0.973594       0.981159        0.967477  \n",
       "146      0.977648       0.957977       0.968124        0.962515  \n",
       "147      0.985535       0.972841       0.979546        0.975111  \n",
       "148      0.986237       0.978559       0.987331        0.980789  \n",
       "149      0.968663       0.960052       0.980595        0.966389  \n",
       "\n",
       "[150 rows x 30 columns]"
      ]
     },
     "execution_count": 24,
     "metadata": {},
     "output_type": "execute_result"
    }
   ],
   "source": [
    "dataTable = {'Filename': file_name, 'Label': labels,\n",
    "        'Contrast0': Kontras0, 'Contrast45': Kontras45, 'Contrast90': Kontras90, 'Contrast135': Kontras135,\n",
    "        'Homogeneity0': homogenity0, 'Homogeneity45': homogenity45, 'Homogeneity90': homogenity90, 'Homogeneity135': homogenity135,\n",
    "        'Dissimilarity0': dissimilarity0, 'Dissimilarity45': dissimilarity45, 'Dissimilarity90': dissimilarity90, 'Dissimilarity135': dissimilarity135,\n",
    "        'Entropy0': entropy0, 'Entropy45': entropy45, 'Entropy90': entropy90, 'Entropy135': entropy135,\n",
    "        'ASM0': ASM0, 'ASM45': ASM45, 'ASM90': ASM90, 'ASM135': ASM135,\n",
    "        'Energy0': energy0, 'Energy45': energy45, 'Energy90': energy90, 'Energy135': energy135,\n",
    "        'Correlation0': correlation0, 'Correlation45': correlation45, 'Correlation90': correlation90, 'Correlation135': correlation135,\n",
    "        }\n",
    "df = pd.DataFrame(dataTable)\n",
    "df.to_csv('hasil_ekstraksi_1.csv', index=False)\n",
    "\n",
    "hasilEkstrak = pd.read_csv('hasil_ekstraksi_1.csv')\n",
    "hasilEkstrak"
   ]
  },
  {
   "cell_type": "markdown",
   "id": "9affdc41",
   "metadata": {},
   "source": [
    "# FEATURE SELECTION"
   ]
  },
  {
   "cell_type": "markdown",
   "id": "df6138d7",
   "metadata": {},
   "source": [
    "Kode ini melakukan analisis korelasi antar fitur hasil ekstraksi untuk memilih fitur yang tidak terlalu berkorelasi tinggi satu sama lain (threshold korelasi ≥ 0.95 digunakan sebagai batas penghapusan fitur yang sangat mirip). Fitur yang dipilih kemudian disimpan sebagai dataset baru, dan label asli dipisahkan. Terakhir, sebuah heatmap korelasi dari fitur terpilih ditampilkan menggunakan seaborn untuk memvisualisasikan hubungan antar fitur.\n"
   ]
  },
  {
   "cell_type": "code",
   "execution_count": 25,
   "id": "a94acb48-ddf7-41b5-b1d3-e2d88f1ae014",
   "metadata": {},
   "outputs": [
    {
     "data": {
      "text/plain": [
       "<Axes: >"
      ]
     },
     "execution_count": 25,
     "metadata": {},
     "output_type": "execute_result"
    },
    {
     "data": {
      "image/png": "[encoded data removed]",
      "text/plain": [
       "<Figure size 1700x1700 with 2 Axes>"
      ]
     },
     "metadata": {},
     "output_type": "display_data"
    }
   ],
   "source": [
    "# Menghitung korelasi\n",
    "correlation = hasilEkstrak.drop(columns=['Label','Filename']).corr()\n",
    "\n",
    "# Menyaring fitur yang memiliki korelasi absolut lebih dari 0.95 dengan label\n",
    "threshold = 0.95 # atur threshold ini untuk menentukan seberapa besar korelasi yang ingin disaring\n",
    "selectionFeature = []\n",
    "columns = np.full((correlation.shape[0],), True, dtype=bool)\n",
    "for i in range(correlation.shape[0]):\n",
    "\tfor j in range(i+1, correlation.shape[0]):\n",
    "\t\tif correlation.iloc[i,j] >= threshold:\n",
    "\t\t\tif columns[j]:\n",
    "\t\t\t\tcolumns[j] = False\n",
    "select = hasilEkstrak.drop(columns=['Label','Filename']).columns[columns]\n",
    "x_new = hasilEkstrak[select]\n",
    "x_new\n",
    "y = hasilEkstrak['Label']\n",
    "plt.figure(figsize=(17,17))\n",
    "sns.heatmap(x_new.corr(), annot=True, cmap='Blues', fmt=\".2f\")"
   ]
  },
  {
   "cell_type": "markdown",
   "id": "a8a9aaba",
   "metadata": {},
   "source": [
    "# SPLITTING DATA"
   ]
  },
  {
   "cell_type": "code",
   "execution_count": 26,
   "id": "ba99c17d-501f-464f-8c20-81d8cf664b0d",
   "metadata": {},
   "outputs": [
    {
     "name": "stdout",
     "output_type": "stream",
     "text": [
      "(120, 11)\n",
      "(30, 11)\n"
     ]
    }
   ],
   "source": [
    "# ubah bagian test_size sesuai kebutuhan\n",
    "# 0.3 = 30% data untuk testing (train/test 70/30)\n",
    "# 0.2 = 20% data untuk testing (train/test 80/20)\n",
    "X_train, X_test, y_train, y_test = train_test_split(x_new, y, test_size=0.2, random_state=42)\n",
    "print(X_train.shape)\n",
    "print(X_test.shape)"
   ]
  },
  {
   "cell_type": "markdown",
   "id": "142445e0",
   "metadata": {},
   "source": [
    "Kode ini membagi data fitur dan label menjadi dua bagian: data latih (training) dan data uji (testing). Parameter `test_size=0.3` berarti 30% data digunakan untuk pengujian, dan sisanya 70% untuk pelatihan. `random_state=42` memastikan pembagian data bisa direproduksi. Setelah pembagian, ukuran masing-masing subset ditampilkan untuk memastikan pembagian berjalan sesuai harapan.\n"
   ]
  },
  {
   "cell_type": "markdown",
   "id": "ac4d3f9f",
   "metadata": {},
   "source": [
    "# Feature Normalization"
   ]
  },
  {
   "cell_type": "code",
   "execution_count": 27,
   "id": "22696ee1-92a1-4ac1-83da-03f67c4f7a4f",
   "metadata": {},
   "outputs": [],
   "source": [
    "X_test = (X_test - X_train.mean()) / X_train.std()\n",
    "X_train = (X_train - X_train.mean()) / X_train.std()"
   ]
  },
  {
   "cell_type": "markdown",
   "id": "5db7d93f",
   "metadata": {},
   "source": [
    "Kode ini melakukan **normalisasi fitur** menggunakan metode standardisasi (z-score normalization). Data pada `X_train` dan `X_test` diubah sehingga setiap fitur memiliki nilai rata-rata 0 dan standar deviasi 1 berdasarkan statistik dari data training (`X_train`). Hal ini penting supaya model belajar dengan data yang sudah distandarisasi dan agar distribusi fitur pada data uji konsisten dengan data latih.\n"
   ]
  },
  {
   "cell_type": "markdown",
   "id": "913d9af4",
   "metadata": {},
   "source": [
    "# MODELING"
   ]
  },
  {
   "cell_type": "markdown",
   "id": "c5c01bf0",
   "metadata": {},
   "source": [
    "## DEFINE MODEL"
   ]
  },
  {
   "cell_type": "code",
   "execution_count": 28,
   "id": "3eaaa405-4b48-4cda-82e2-f87e82597867",
   "metadata": {},
   "outputs": [],
   "source": [
    "def generateClassificationReport(y_true, y_pred):\n",
    "\tprint(classification_report(y_true, y_pred))\n",
    "\tprint(confusion_matrix(y_true, y_pred))\n",
    "\tprint('Accuracy:', accuracy_score(y_true, y_pred))\n",
    "\n",
    "# Define classifiers\n",
    "rf = RandomForestClassifier(n_estimators=5, random_state=42)\n",
    "svm = SVC(kernel='rbf', random_state=42)\n",
    "knn = KNeighborsClassifier(n_neighbors=5)"
   ]
  },
  {
   "cell_type": "markdown",
   "id": "d9eacc02",
   "metadata": {},
   "source": [
    "Fungsi ini berfungsi untuk menampilkan hasil evaluasi dari model klasifikasi, termasuk metrik seperti precision, recall, f1-score, matriks kebingungan, dan tingkat akurasi. Selain itu, tiga algoritma klasifikasi yang umum digunakan didefinisikan, yaitu Random Forest, Support Vector Machine (SVM), dan K-Nearest Neighbors (KNN). Ketiga model tersebut nantinya dapat digunakan untuk melatih dan menguji performa klasifikasi pada data yang tersedia.\n"
   ]
  },
  {
   "cell_type": "markdown",
   "id": "cc4a9c73",
   "metadata": {},
   "source": [
    "### Train Random Forest Classifier"
   ]
  },
  {
   "cell_type": "markdown",
   "id": "ca414f5f",
   "metadata": {},
   "source": [
    "Fungsi kode ini adalah untuk melatih model Random Forest agar dapat mengenali pola pada data pelatihan, kemudian menguji kemampuan model tersebut dalam memprediksi data baru (data pengujian). Dengan melihat hasil evaluasi dari prediksi pada data pelatihan dan pengujian, kita dapat menilai seberapa akurat dan andal model dalam mengklasifikasikan data. Jadi, fungsi utamanya adalah membangun dan mengevaluasi model klasifikasi secara menyeluruh.\n"
   ]
  },
  {
   "cell_type": "code",
   "execution_count": 29,
   "id": "e7b6c2ed-4546-4a76-998f-f7e3e998a5ff",
   "metadata": {},
   "outputs": [
    {
     "name": "stdout",
     "output_type": "stream",
     "text": [
      "------Training Set------\n",
      "              precision    recall  f1-score   support\n",
      "\n",
      "       fresh       0.92      0.98      0.95        59\n",
      "      rotten       0.98      0.92      0.95        61\n",
      "\n",
      "    accuracy                           0.95       120\n",
      "   macro avg       0.95      0.95      0.95       120\n",
      "weighted avg       0.95      0.95      0.95       120\n",
      "\n",
      "[[58  1]\n",
      " [ 5 56]]\n",
      "Accuracy: 0.95\n",
      "\n",
      "------Testing Set------\n",
      "              precision    recall  f1-score   support\n",
      "\n",
      "       fresh       0.83      0.94      0.88        16\n",
      "      rotten       0.92      0.79      0.85        14\n",
      "\n",
      "    accuracy                           0.87        30\n",
      "   macro avg       0.88      0.86      0.86        30\n",
      "weighted avg       0.87      0.87      0.87        30\n",
      "\n",
      "[[15  1]\n",
      " [ 3 11]]\n",
      "Accuracy: 0.8666666666666667\n"
     ]
    }
   ],
   "source": [
    "# Train Random Forest Classifier\n",
    "rf.fit(X_train, y_train)\n",
    "\n",
    "# Make predictions and evaluate the model with the training set\n",
    "print(\"------Training Set------\")\n",
    "y_pred = rf.predict(X_train)\n",
    "generateClassificationReport( y_train, y_pred)\n",
    "\n",
    "# Make predictions and evaluate the model with the testing set\n",
    "print(\"\\n------Testing Set------\")\n",
    "y_pred = rf.predict(X_test)\n",
    "generateClassificationReport( y_test, y_pred)"
   ]
  },
  {
   "cell_type": "markdown",
   "id": "68c5fa10",
   "metadata": {},
   "source": [
    "### Train SVM Classifier"
   ]
  },
  {
   "cell_type": "markdown",
   "id": "3d02ddce",
   "metadata": {},
   "source": [
    "Kode ini melatih model Support Vector Machine (SVM) menggunakan data pelatihan, kemudian membuat prediksi pada data pelatihan dan data pengujian. Selanjutnya, hasil prediksi tersebut dievaluasi dengan menggunakan laporan klasifikasi dan matriks kebingungan untuk menilai performa model. Tujuannya adalah mengetahui seberapa baik model SVM dapat mengenali pola dan mengklasifikasikan data baik saat pelatihan maupun pengujian.\n"
   ]
  },
  {
   "cell_type": "code",
   "execution_count": 30,
   "id": "6391cdbc-da01-4478-8892-5cb1df42a512",
   "metadata": {},
   "outputs": [
    {
     "name": "stdout",
     "output_type": "stream",
     "text": [
      "\n",
      "------Training Set------\n",
      "              precision    recall  f1-score   support\n",
      "\n",
      "       fresh       0.79      0.95      0.86        59\n",
      "      rotten       0.94      0.75      0.84        61\n",
      "\n",
      "    accuracy                           0.85       120\n",
      "   macro avg       0.86      0.85      0.85       120\n",
      "weighted avg       0.87      0.85      0.85       120\n",
      "\n",
      "[[56  3]\n",
      " [15 46]]\n",
      "Accuracy: 0.85\n",
      "\n",
      "------Testing Set------\n",
      "              precision    recall  f1-score   support\n",
      "\n",
      "       fresh       0.88      0.94      0.91        16\n",
      "      rotten       0.92      0.86      0.89        14\n",
      "\n",
      "    accuracy                           0.90        30\n",
      "   macro avg       0.90      0.90      0.90        30\n",
      "weighted avg       0.90      0.90      0.90        30\n",
      "\n",
      "[[15  1]\n",
      " [ 2 12]]\n",
      "Accuracy: 0.9\n"
     ]
    }
   ],
   "source": [
    "# Train SVM Classifier\n",
    "svm.fit(X_train, y_train)\n",
    "\n",
    "# Make predictions and evaluate the model with the training set\n",
    "print(\"\\n------Training Set------\")\n",
    "y_pred = svm.predict(X_train)\n",
    "generateClassificationReport( y_train, y_pred)\n",
    "\n",
    "# Make predictions and evaluate the model with the testing set\n",
    "print(\"\\n------Testing Set------\")\n",
    "y_pred = svm.predict(X_test)\n",
    "generateClassificationReport( y_test, y_pred)"
   ]
  },
  {
   "cell_type": "markdown",
   "id": "c80d2f8f",
   "metadata": {},
   "source": [
    "### Train KNN Classifier"
   ]
  },
  {
   "cell_type": "markdown",
   "id": "ac9571e4",
   "metadata": {},
   "source": [
    "Kode ini digunakan untuk melatih model K-Nearest Neighbors (KNN) dengan data pelatihan, lalu membuat prediksi pada data pelatihan dan data pengujian. Setelah itu, hasil prediksi dievaluasi menggunakan laporan klasifikasi dan matriks kebingungan untuk menilai performa model. Tujuannya adalah mengukur seberapa baik model KNN dalam mengklasifikasikan data berdasarkan kedekatan dengan data latih yang sudah ada.\n"
   ]
  },
  {
   "cell_type": "code",
   "execution_count": 31,
   "id": "2741548d-0687-43bf-b7d0-76ea64304ee5",
   "metadata": {},
   "outputs": [
    {
     "name": "stdout",
     "output_type": "stream",
     "text": [
      "\n",
      "------Training Set------\n",
      "              precision    recall  f1-score   support\n",
      "\n",
      "       fresh       0.86      0.81      0.83        59\n",
      "      rotten       0.83      0.87      0.85        61\n",
      "\n",
      "    accuracy                           0.84       120\n",
      "   macro avg       0.84      0.84      0.84       120\n",
      "weighted avg       0.84      0.84      0.84       120\n",
      "\n",
      "[[48 11]\n",
      " [ 8 53]]\n",
      "Accuracy: 0.8416666666666667\n",
      "\n",
      "------Testing Set------\n",
      "              precision    recall  f1-score   support\n",
      "\n",
      "       fresh       0.87      0.81      0.84        16\n",
      "      rotten       0.80      0.86      0.83        14\n",
      "\n",
      "    accuracy                           0.83        30\n",
      "   macro avg       0.83      0.83      0.83        30\n",
      "weighted avg       0.84      0.83      0.83        30\n",
      "\n",
      "[[13  3]\n",
      " [ 2 12]]\n",
      "Accuracy: 0.8333333333333334\n"
     ]
    }
   ],
   "source": [
    "# Train KNN Classifier\n",
    "knn.fit(X_train, y_train)\n",
    "\n",
    "# Make predictions and evaluate the model with the training set\n",
    "print(\"\\n------Training Set------\")\n",
    "y_pred = knn.predict(X_train)\n",
    "generateClassificationReport( y_train, y_pred)\n",
    "\n",
    "# Make predictions and evaluate the model with the testing set\n",
    "print(\"\\n------Testing Set------\")\n",
    "y_pred = knn.predict(X_test)\n",
    "generateClassificationReport( y_test, y_pred)"
   ]
  },
  {
   "cell_type": "markdown",
   "id": "11af1035",
   "metadata": {},
   "source": [
    "## Evaluation With Confusion Matrix"
   ]
  },
  {
   "cell_type": "markdown",
   "id": "be48f3a5",
   "metadata": {},
   "source": [
    "Fungsi `plot_confusion_matrix` ini digunakan untuk menampilkan matriks kebingungan dari hasil prediksi sebuah model. Matriks kebingungan membantu melihat performa klasifikasi dengan memperlihatkan jumlah prediksi benar dan salah untuk setiap kelas. Kemudian, fungsi ini dipanggil untuk menampilkan matriks kebingungan dari tiga model yang sudah dilatih: Random Forest, SVM, dan KNN, agar kita bisa membandingkan hasil klasifikasi masing-masing model secara visual.\n"
   ]
  },
  {
   "cell_type": "code",
   "execution_count": 32,
   "id": "c09ee134-f88a-45a4-9eb9-6aea9ace1de9",
   "metadata": {},
   "outputs": [
    {
     "data": {
      "image/png": "[encoded data removed]",
      "text/plain": [
       "<Figure size 640x480 with 2 Axes>"
      ]
     },
     "metadata": {},
     "output_type": "display_data"
    },
    {
     "data": {
      "image/png": "[encoded data removed]",
      "text/plain": [
       "<Figure size 640x480 with 2 Axes>"
      ]
     },
     "metadata": {},
     "output_type": "display_data"
    },
    {
     "data": {
      "image/png": "[encoded data removed]",
      "text/plain": [
       "<Figure size 640x480 with 2 Axes>"
      ]
     },
     "metadata": {},
     "output_type": "display_data"
    }
   ],
   "source": [
    "def plot_confusion_matrix(y_true, y_pred, title):\n",
    "    cm = confusion_matrix(y_true, y_pred)\n",
    "    disp = ConfusionMatrixDisplay(confusion_matrix=cm)\n",
    "    disp.plot(cmap=plt.cm.Blues)\n",
    "    plt.title(title)\n",
    "    plt.show()\n",
    "\n",
    "# Plot confusion matrix for Random Forest\n",
    "plot_confusion_matrix(y_test, rf.predict(X_test), \"Random Forest Confusion Matrix\")\n",
    "# Plot confusion matrix for SVM\n",
    "plot_confusion_matrix(y_test, svm.predict(X_test), \"SVM Confusion Matrix\")\n",
    "# Plot confusion matrix for KNN\n",
    "plot_confusion_matrix(y_test, knn.predict(X_test), \"KNN Confusion Matrix\")"
   ]
  }
 ],
 "metadata": {
  "kernelspec": {
   "display_name": "Python 3",
   "language": "python",
   "name": "python3"
  },
  "language_info": {
   "codemirror_mode": {
    "name": "ipython",
    "version": 3
   },
   "file_extension": ".py",
   "mimetype": "text/x-python",
   "name": "python",
   "nbconvert_exporter": "python",
   "pygments_lexer": "ipython3",
   "version": "3.13.3"
  }
 },
 "nbformat": 4,
 "nbformat_minor": 5
}
